{
 "cells": [
  {
   "cell_type": "markdown",
   "id": "a87c1ccc",
   "metadata": {},
   "source": [
    "# Visualisations\n",
    "\n",
    "TEMPLATE - FILL WITH YOUR DATASETS DETAILS"
   ]
  },
  {
   "cell_type": "markdown",
   "id": "881bbb54",
   "metadata": {},
   "source": [
    "Importing Libraries:"
   ]
  },
  {
   "cell_type": "code",
   "execution_count": null,
   "id": "e8c746f2",
   "metadata": {},
   "outputs": [],
   "source": [
    "import pandas as pd\n",
    "import numpy as np\n",
    "import matplotlib.pyplot as plt\n",
    "import seaborn as sns\n",
    "import plotly.express as px  # Optional for interactive plots\n",
    "\n",
    "# The blow code is optional, but it improves the aesthetics of the plots\n",
    "sns.set(style=\"whitegrid\", palette=\"muted\")\n",
    "plt.rcParams['figure.figsize'] = (10,6)"
   ]
  },
  {
   "cell_type": "markdown",
   "id": "3856d494",
   "metadata": {},
   "source": [
    "Loading Data:"
   ]
  },
  {
   "cell_type": "code",
   "execution_count": null,
   "id": "b1bb2700",
   "metadata": {},
   "outputs": [],
   "source": [
    "df = pd.read_csv('../data/your_dataset.csv')  # Make sure to adjust the path and filename as necessary"
   ]
  },
  {
   "cell_type": "markdown",
   "id": "4c735598",
   "metadata": {},
   "source": [
    "Quick look at the data:"
   ]
  },
  {
   "cell_type": "code",
   "execution_count": null,
   "id": "6c80a9f7",
   "metadata": {},
   "outputs": [],
   "source": [
    "df.head() # First few rows of the dataset\n",
    "df.info() # Data types and non-null counts\n",
    "df.describe() # Summary statistics\n",
    "df.columns # List of columns in the dataset"
   ]
  },
  {
   "cell_type": "markdown",
   "id": "87778b21",
   "metadata": {},
   "source": [
    "### Visualise Distributions:"
   ]
  },
  {
   "cell_type": "markdown",
   "id": "8ecd2532",
   "metadata": {},
   "source": [
    "Numerical columns:"
   ]
  },
  {
   "cell_type": "code",
   "execution_count": null,
   "id": "de53fb8f",
   "metadata": {},
   "outputs": [],
   "source": [
    "# Creating a histogram and box plot for numeric columns"
   ]
  },
  {
   "cell_type": "markdown",
   "id": "42f1312a",
   "metadata": {},
   "source": [
    "Categorical columns:"
   ]
  },
  {
   "cell_type": "code",
   "execution_count": null,
   "id": "a13428ef",
   "metadata": {},
   "outputs": [],
   "source": [
    "# Count plot"
   ]
  },
  {
   "cell_type": "markdown",
   "id": "4c6295aa",
   "metadata": {},
   "source": [
    "### Visualise Relationships:"
   ]
  },
  {
   "cell_type": "markdown",
   "id": "20a61551",
   "metadata": {},
   "source": [
    "Numerical vs numerical:"
   ]
  },
  {
   "cell_type": "code",
   "execution_count": null,
   "id": "651b4481",
   "metadata": {},
   "outputs": [],
   "source": [
    "# Creating a scatter plot to compare two columns\n",
    "sns.scatterplot(x='col1', y='col2', data=df, hue='target_col') \n",
    "plt.title('Scatterplot of col1 vs col2')\n",
    "plt.show()\n",
    "\n",
    "# Creating a regression plot between two columns\n",
    "sns.regplot(x='col1', y='col2', data=df)\n",
    "plt.title('Regression plot of col1 vs col2')\n",
    "plt.show()\n"
   ]
  },
  {
   "cell_type": "markdown",
   "id": "b3a41075",
   "metadata": {},
   "source": [
    "Categorical vs numerical:"
   ]
  },
  {
   "cell_type": "code",
   "execution_count": null,
   "id": "4ff53868",
   "metadata": {},
   "outputs": [],
   "source": [
    "# Creating a box plot to compare two columns\n",
    "sns.boxplot(x='categorical_col', y='numeric_col', data=df)\n",
    "plt.title('Boxplot of numeric_col by categorical_col')\n",
    "plt.show()\n",
    "\n",
    "# Creating a violin plot to compare two columns\n",
    "sns.violinplot(x='categorical_col', y='numeric_col', data=df)\n",
    "plt.title('Violin plot of numeric_col by categorical_col')\n",
    "plt.show()"
   ]
  },
  {
   "cell_type": "markdown",
   "id": "c165bb0b",
   "metadata": {},
   "source": [
    "Categorical vs categorical:"
   ]
  },
  {
   "cell_type": "code",
   "execution_count": null,
   "id": "dd43cc4d",
   "metadata": {},
   "outputs": [],
   "source": [
    "# Creating a cross tab to compare two categories\n",
    "cross_tab = pd.crosstab(df['cat1'], df['cat2'])\n",
    "sns.heatmap(cross_tab, annot=True, fmt='d', cmap='Blues')\n",
    "plt.title('Heatmap of cat1 vs cat2')\n",
    "plt.show()"
   ]
  },
  {
   "cell_type": "markdown",
   "id": "b5c79657",
   "metadata": {},
   "source": [
    "Correlation and heatmaps:"
   ]
  },
  {
   "cell_type": "code",
   "execution_count": null,
   "id": "013daa7f",
   "metadata": {},
   "outputs": [],
   "source": [
    "# Creating a correlation matrix and heatmap\n",
    "corr_matrix = df.corr()\n",
    "sns.heatmap(corr_matrix, annot=True, cmap='coolwarm', linewidths=0.5)\n",
    "plt.title('Correlation Matrix')\n",
    "plt.show()"
   ]
  },
  {
   "cell_type": "markdown",
   "id": "a22e3246",
   "metadata": {},
   "source": [
    "Pair plots:"
   ]
  },
  {
   "cell_type": "code",
   "execution_count": null,
   "id": "9ee9e9eb",
   "metadata": {},
   "outputs": [],
   "source": [
    "# Creating a pair plot\n",
    "sns.pairplot(df, hue='target_col')\n",
    "plt.show()"
   ]
  },
  {
   "cell_type": "markdown",
   "id": "c9691a82",
   "metadata": {},
   "source": [
    "Time series visualisations (if applicable):"
   ]
  },
  {
   "cell_type": "code",
   "execution_count": null,
   "id": "ce3a83c1",
   "metadata": {},
   "outputs": [],
   "source": [
    "df['date'] = pd.to_datetime(df['date'])\n",
    "df.set_index('date', inplace=True)\n",
    "df['value_col'].plot()\n",
    "plt.title('Time Series of value_col')\n",
    "plt.show()\n",
    "\n",
    "# Optional interactive\n",
    "px.line(df, x=df.index, y='value_col', title='Interactive Time Series')"
   ]
  },
  {
   "cell_type": "markdown",
   "id": "b5e55385",
   "metadata": {},
   "source": [
    "Saving plots:"
   ]
  },
  {
   "cell_type": "code",
   "execution_count": null,
   "id": "9e5450bd",
   "metadata": {},
   "outputs": [],
   "source": [
    "plt.savefig('plot_name.png', dpi=300, bbox_inches='tight') # Enter your plot name in place of 'plot_name.png' to save it"
   ]
  }
 ],
 "metadata": {
  "language_info": {
   "name": "python"
  }
 },
 "nbformat": 4,
 "nbformat_minor": 5
}
