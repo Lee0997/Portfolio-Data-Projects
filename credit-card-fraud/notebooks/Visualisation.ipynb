{
 "cells": [
  {
   "cell_type": "markdown",
   "id": "dd8d1002",
   "metadata": {},
   "source": [
    "# Visualisations"
   ]
  },
  {
   "cell_type": "markdown",
   "id": "243ade6e",
   "metadata": {},
   "source": [
    "#### Importing necessary libraries & loading the dataset"
   ]
  },
  {
   "cell_type": "code",
   "execution_count": null,
   "id": "5c8e13db",
   "metadata": {},
   "outputs": [],
   "source": [
    "import pandas as pd\n",
    "import numpy as np\n",
    "import matplotlib.pyplot as plt\n",
    "import seaborn as sns\n",
    "\n",
    "df = pd.read_csv('/data/creditcard.csv')"
   ]
  },
  {
   "cell_type": "markdown",
   "id": "f0af0e3e",
   "metadata": {},
   "source": [
    "#### Below are the visualisations"
   ]
  },
  {
   "cell_type": "code",
   "execution_count": 2,
   "id": "0fdacc1c",
   "metadata": {},
   "outputs": [
    {
     "ename": "NameError",
     "evalue": "name 'df' is not defined",
     "output_type": "error",
     "traceback": [
      "\u001b[31m---------------------------------------------------------------------------\u001b[39m",
      "\u001b[31mNameError\u001b[39m                                 Traceback (most recent call last)",
      "\u001b[36mCell\u001b[39m\u001b[36m \u001b[39m\u001b[32mIn[2]\u001b[39m\u001b[32m, line 2\u001b[39m\n\u001b[32m      1\u001b[39m \u001b[38;5;66;03m# Distribution of target variable (fraud cases)\u001b[39;00m\n\u001b[32m----> \u001b[39m\u001b[32m2\u001b[39m sns.countplot(x=\u001b[33m'\u001b[39m\u001b[33mClass\u001b[39m\u001b[33m'\u001b[39m, data=\u001b[43mdf\u001b[49m)\n\u001b[32m      3\u001b[39m plt.title(\u001b[33m\"\u001b[39m\u001b[33mDistribution of Fraud (Class)\u001b[39m\u001b[33m\"\u001b[39m)\n\u001b[32m      4\u001b[39m plt.show()\n",
      "\u001b[31mNameError\u001b[39m: name 'df' is not defined"
     ]
    }
   ],
   "source": [
    "# Distribution of target variable (fraud cases)\n",
    "sns.countplot(x='Class', data=df)\n",
    "plt.title(\"Distribution of Fraud (Class)\")\n",
    "plt.show()\n",
    "\n",
    "# Histogram for numeric features (example: 'Amount')\n",
    "sns.histplot(df['Amount'], bins=50, kde=True)\n",
    "plt.title(\"Transaction Amount Distribution\")\n",
    "plt.show()\n",
    "\n",
    "# Boxplot for 'Amount' to detect outliers\n",
    "sns.boxplot(x='Amount', data=df)\n",
    "plt.title(\"Transaction Amount Boxplot\")\n",
    "plt.show()\n",
    "\n",
    "# Correlation heatmap\n",
    "corr = df.corr()\n",
    "sns.heatmap(corr, annot=False, cmap='coolwarm')\n",
    "plt.title(\"Correlation Heatmap\")\n",
    "plt.show()\n",
    "\n",
    "# Scatterplot example: 'V1' vs 'V2'\n",
    "sns.scatterplot(x='V1', y='V2', hue='Class', data=df, alpha=0.5)\n",
    "plt.title(\"V1 vs V2 by Class\")\n",
    "plt.show()"
   ]
  }
 ],
 "metadata": {
  "kernelspec": {
   "display_name": "Python 3",
   "language": "python",
   "name": "python3"
  },
  "language_info": {
   "codemirror_mode": {
    "name": "ipython",
    "version": 3
   },
   "file_extension": ".py",
   "mimetype": "text/x-python",
   "name": "python",
   "nbconvert_exporter": "python",
   "pygments_lexer": "ipython3",
   "version": "3.13.5"
  }
 },
 "nbformat": 4,
 "nbformat_minor": 5
}
