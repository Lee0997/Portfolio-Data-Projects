{
 "cells": [
  {
   "cell_type": "markdown",
   "id": "d697a4c0",
   "metadata": {},
   "source": [
    "# Data Cleaning"
   ]
  },
  {
   "cell_type": "markdown",
   "id": "04570004",
   "metadata": {},
   "source": [
    "#### Importing libraries and reading the dataset"
   ]
  },
  {
   "cell_type": "code",
   "execution_count": 1,
   "id": "45d03ead",
   "metadata": {},
   "outputs": [],
   "source": [
    "import pandas as pd\n",
    "import numpy as np\n",
    "import matplotlib.pyplot as plt\n",
    "import seaborn as sns\n",
    "\n",
    "df = pd.read_csv('../data/creditcard.csv')"
   ]
  },
  {
   "cell_type": "markdown",
   "id": "69001bac",
   "metadata": {},
   "source": [
    "#### Cleaning process"
   ]
  },
  {
   "cell_type": "code",
   "execution_count": null,
   "id": "4e422762",
   "metadata": {},
   "outputs": [
    {
     "name": "stderr",
     "output_type": "stream",
     "text": [
      "C:\\Users\\leeno\\AppData\\Local\\Temp\\ipykernel_4916\\167237101.py:2: FutureWarning: DataFrame.fillna with 'method' is deprecated and will raise in a future version. Use obj.ffill() or obj.bfill() instead.\n",
      "  df.fillna(method='ffill', inplace=True)\n"
     ]
    }
   ],
   "source": [
    "# Handling missing and duplicate values\n",
    "df.fillna(method='ffill', inplace=True)\n",
    "df.drop_duplicates(inplace=True)\n",
    "\n",
    "# Tidying column names\n",
    "df.columns = df.columns.str.strip().str.lower().str.replace(' ', '_')\n",
    "df.rename(columns={'class': 'is_fraud'}, inplace=True)\n",
    "df['is_fraud'] = df['is_fraud'].map({0: 'No Fraud', 1: 'Fraud'})\n",
    "\n",
    "# Converting 'time' to datetime\n",
    "df['time'] = pd.to_datetime(df['time'], unit='s', origin='1970-01-01') # There isn't a time column in this dataset but if there was, this is how you'd convert it.\n",
    "\n",
    "# Ensuring 'amount' is float\n",
    "df['amount'] = df['amount'].astype(float)\n"
   ]
  }
 ],
 "metadata": {
  "kernelspec": {
   "display_name": "Python 3",
   "language": "python",
   "name": "python3"
  },
  "language_info": {
   "codemirror_mode": {
    "name": "ipython",
    "version": 3
   },
   "file_extension": ".py",
   "mimetype": "text/x-python",
   "name": "python",
   "nbconvert_exporter": "python",
   "pygments_lexer": "ipython3",
   "version": "3.13.5"
  }
 },
 "nbformat": 4,
 "nbformat_minor": 5
}
