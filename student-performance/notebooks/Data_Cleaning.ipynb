{
 "cells": [
  {
   "cell_type": "markdown",
   "id": "624e2495",
   "metadata": {},
   "source": [
    "# Data Cleaning\n",
    "\n",
    "In this notebook we are going to attempt to clean the dataset shown in the 'data' folder."
   ]
  },
  {
   "cell_type": "markdown",
   "id": "aad7aba2",
   "metadata": {},
   "source": [
    "Importing Libraries:"
   ]
  },
  {
   "cell_type": "code",
   "execution_count": null,
   "id": "049660ce",
   "metadata": {},
   "outputs": [],
   "source": [
    "import pandas as pd\n",
    "import numpy as np\n",
    "import matplotlib.pyplot as plt"
   ]
  },
  {
   "cell_type": "markdown",
   "id": "ca40eeb6",
   "metadata": {},
   "source": [
    "Loading Data:"
   ]
  },
  {
   "cell_type": "code",
   "execution_count": null,
   "id": "2afb6377",
   "metadata": {},
   "outputs": [],
   "source": [
    "df = pd.read_csv('../data/StudentsPerformance.csv')"
   ]
  },
  {
   "cell_type": "markdown",
   "id": "2e23fc08",
   "metadata": {},
   "source": [
    "Inspecting the data:"
   ]
  },
  {
   "cell_type": "code",
   "execution_count": null,
   "id": "7218d24c",
   "metadata": {},
   "outputs": [],
   "source": [
    "# Checking the first few rows of the dataframe\n",
    "df.head()\n",
    "\n",
    "# Checking the data types and non-null counts\n",
    "df.info()\n",
    "\n",
    "# Getting some basic statistics\n",
    "df.describe()\n",
    "\n",
    "# Checking the rows and columns\n",
    "df.shape"
   ]
  },
  {
   "cell_type": "markdown",
   "id": "676489dc",
   "metadata": {},
   "source": [
    "Handling missing values:"
   ]
  },
  {
   "cell_type": "code",
   "execution_count": null,
   "id": "e4e393b9",
   "metadata": {},
   "outputs": [],
   "source": [
    "# Displaying the total number of missing values in each column\n",
    "df.isnull().sum()\n",
    "\n",
    "# Dropping rows/columns with too many missing values\n",
    "df = df.dropna(thresh=len(df)*0.7, axis=1)  # Dropping columns with more than 30% missing values\n",
    "\n",
    "# Filling missing values\n",
    "df = df.fillna(df.median(numeric_only=True))  # Filling numeric columns with median\n",
    "df = df.fillna(df.mode().iloc[0])  # Filling categorical columns with mode\n",
    "df = df.fillna('Unknown')  # Filling remaining missing values with 'Unknown'\n",
    "\n",
    "# Checking there are no more missing values\n",
    "df.isnull().sum()"
   ]
  },
  {
   "cell_type": "markdown",
   "id": "2002a46b",
   "metadata": {},
   "source": [
    "Removing duplicates:"
   ]
  },
  {
   "cell_type": "code",
   "execution_count": null,
   "id": "7150cca5",
   "metadata": {},
   "outputs": [],
   "source": [
    "# Checking for duplicates\n",
    "duplicates = df.duplicated().sum()\n",
    "print(f'Total duplicates: {duplicates}')\n",
    "\n",
    "# Removing duplicates\n",
    "df = df.drop_duplicates()\n",
    "\n",
    "# Final check\n",
    "df.info()"
   ]
  },
  {
   "cell_type": "markdown",
   "id": "07fea832",
   "metadata": {},
   "source": [
    "Correcting data types:"
   ]
  },
  {
   "cell_type": "code",
   "execution_count": null,
   "id": "2fc33561",
   "metadata": {},
   "outputs": [],
   "source": [
    "# Converting data types if necessary\n",
    "df.info()\n",
    "\n",
    "# Specifically looking at the numerical columns\n",
    "print(df.select_dtypes(include=['number']).head())\n",
    "\n",
    "# Specifically looking at the onject columns\n",
    "print(df.select_dtypes(include=['object']).head())\n",
    "\n",
    "# Converting object columns to string type\n",
    "for col in df.select_dtypes(include=['object']).columns:\n",
    "    df[col] = df[col].astype('string')\n",
    "df.info()"
   ]
  },
  {
   "cell_type": "markdown",
   "id": "15fa0f04",
   "metadata": {},
   "source": [
    "Handling outliers:"
   ]
  },
  {
   "cell_type": "code",
   "execution_count": null,
   "id": "cd6c9cf8",
   "metadata": {},
   "outputs": [],
   "source": [
    "# Working out the IQR (Interquartile Range)\n",
    "Q1 = df.select_dtypes(include=['number']).quantile(0.25)\n",
    "Q3 = df.select_dtypes(include=['number']).quantile(0.75)\n",
    "IQR = Q3 - Q1\n",
    "print(IQR)\n",
    "\n",
    "# Identifying outliers based on IQR\n",
    "outliers = ((df.select_dtypes(include=['number']) < (Q1 - 1.5 * IQR)) | (df.select_dtypes(include=['number']) > (Q3 + 1.5 * IQR)))\n",
    "\n",
    "# Printing the number of outliers in each numerical column\n",
    "print(outliers.sum())\n",
    "\n",
    "# Handling outliers (e.g., removing or capping them)\n",
    "df = df[~outliers.any(axis=1)] # Removing rows with outliers\n",
    "df.info()"
   ]
  },
  {
   "cell_type": "markdown",
   "id": "8e0eb3e2",
   "metadata": {},
   "source": [
    "Cleaning Strings"
   ]
  },
  {
   "cell_type": "code",
   "execution_count": null,
   "id": "a3680a89",
   "metadata": {},
   "outputs": [],
   "source": [
    "# Removing white spaces from string columns\n",
    "for col in df.select_dtypes(include=['string']).columns:\n",
    "    df[col] = df[col].str.strip()\n",
    "\n",
    "\n",
    "# Converting strings to lowercase\n",
    "for col in df.select_dtypes(include=['string']).columns:\n",
    "    df[col] = df[col].str.lower()\n",
    "\n",
    "\n",
    "# Replacing or removing unwanted characters in strings\n",
    "for col in df.select_dtypes(include=['string']).columns:\n",
    "    df[col] = df[col].str.replace(r'[^a-zA-Z0-9\\s]', '', regex=True)\n",
    "df.info()"
   ]
  }
 ],
 "metadata": {
  "kernelspec": {
   "display_name": "Python 3",
   "language": "python",
   "name": "python3"
  },
  "language_info": {
   "codemirror_mode": {
    "name": "ipython",
    "version": 3
   },
   "file_extension": ".py",
   "mimetype": "text/x-python",
   "name": "python",
   "nbconvert_exporter": "python",
   "pygments_lexer": "ipython3",
   "version": "3.13.5"
  }
 },
 "nbformat": 4,
 "nbformat_minor": 5
}
