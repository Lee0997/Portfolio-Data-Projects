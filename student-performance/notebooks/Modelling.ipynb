{
 "cells": [
  {
   "cell_type": "markdown",
   "id": "19cc8d0b",
   "metadata": {},
   "source": [
    "# Modelling\n",
    "\n",
    "This notebook is dedicated to building, training, evaluating, and interpreting machine learning models using the cleaned dataset."
   ]
  },
  {
   "cell_type": "code",
   "execution_count": null,
   "id": "2bd7cb3f",
   "metadata": {},
   "outputs": [],
   "source": [
    "# Import libraries\n",
    "import pandas as pd\n",
    "import numpy as np\n",
    "from sklearn.model_selection import train_test_split\n",
    "from sklearn.ensemble import RandomForestClassifier\n",
    "from sklearn.metrics import accuracy_score, classification_report, confusion_matrix\n",
    "import matplotlib.pyplot as plt\n",
    "import seaborn as sns"
   ]
  },
  {
   "cell_type": "markdown",
   "id": "7b379424",
   "metadata": {},
   "source": [
    "## Load Cleaned Data"
   ]
  },
  {
   "cell_type": "code",
   "execution_count": null,
   "id": "1135cd1a",
   "metadata": {},
   "outputs": [],
   "source": [
    "df = pd.read_csv('../data/StudentsPerformance_cleaned.csv')  # Adjust path as needed\n",
    "df.head()"
   ]
  },
  {
   "cell_type": "markdown",
   "id": "c7538548",
   "metadata": {},
   "source": [
    "## Feature Selection & Engineering"
   ]
  },
  {
   "cell_type": "code",
   "execution_count": null,
   "id": "cc79c92d",
   "metadata": {},
   "outputs": [],
   "source": [
    "# Example: Encode categorical variables\n",
    "df_encoded = pd.get_dummies(df, drop_first=True)\n",
    "\n",
    "# Define features and target\n",
    "X = df_encoded.drop('target_column', axis=1)  # Replace with your target column\n",
    "y = df_encoded['target_column']"
   ]
  },
  {
   "cell_type": "markdown",
   "id": "2bf620ae",
   "metadata": {},
   "source": [
    "## Train/Test Split"
   ]
  },
  {
   "cell_type": "code",
   "execution_count": null,
   "id": "4dad6ec1",
   "metadata": {},
   "outputs": [],
   "source": [
    "X_train, X_test, y_train, y_test = train_test_split(X, y, test_size=0.2, random_state=42)"
   ]
  },
  {
   "cell_type": "markdown",
   "id": "48eea8f7",
   "metadata": {},
   "source": [
    "## Model Selection, Training, and Evaluation"
   ]
  },
  {
   "cell_type": "code",
   "execution_count": null,
   "id": "2ba72c0d",
   "metadata": {},
   "outputs": [],
   "source": [
    "# Example: Random Forest Classifier\n",
    "model = RandomForestClassifier(random_state=42)\n",
    "model.fit(X_train, y_train)\n",
    "y_pred = model.predict(X_test)\n",
    "\n",
    "print('Accuracy:', accuracy_score(y_test, y_pred))\n",
    "print(classification_report(y_test, y_pred))\n",
    "\n",
    "# Confusion matrix\n",
    "cm = confusion_matrix(y_test, y_pred)\n",
    "sns.heatmap(cm, annot=True, fmt='d', cmap='Blues')\n",
    "plt.xlabel('Predicted')\n",
    "plt.ylabel('Actual')\n",
    "plt.title('Confusion Matrix')\n",
    "plt.show()"
   ]
  },
  {
   "cell_type": "markdown",
   "id": "b08d3f99",
   "metadata": {},
   "source": [
    "## Hyperparameter Tuning (Optional)"
   ]
  },
  {
   "cell_type": "code",
   "execution_count": null,
   "id": "df94358c",
   "metadata": {},
   "outputs": [],
   "source": [
    "# from sklearn.model_selection import GridSearchCV\n",
    "# param_grid = {...}\n",
    "# grid = GridSearchCV(model, param_grid, cv=5)\n",
    "# grid.fit(X_train, y_train)\n",
    "# print('Best parameters:', grid.best_params_)"
   ]
  },
  {
   "cell_type": "markdown",
   "id": "e494f3c0",
   "metadata": {},
   "source": [
    "## Model Interpretation (Optional)"
   ]
  },
  {
   "cell_type": "code",
   "execution_count": null,
   "id": "798ade66",
   "metadata": {},
   "outputs": [],
   "source": [
    "# Example: Feature importances\n",
    "importances = model.feature_importances_\n",
    "feat_names = X.columns\n",
    "feat_imp = pd.Series(importances, index=feat_names).sort_values(ascending=False)\n",
    "feat_imp.plot(kind='bar', figsize=(10,4), title='Feature Importances')\n",
    "plt.show()"
   ]
  }
 ],
 "metadata": {
  "language_info": {
   "name": "python"
  }
 },
 "nbformat": 4,
 "nbformat_minor": 5
}
